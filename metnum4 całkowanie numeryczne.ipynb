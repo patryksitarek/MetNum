{
 "cells": [
  {
   "cell_type": "markdown",
   "metadata": {},
   "source": [
    "# Metody numeryczne - całkowanie numeryczne"
   ]
  },
  {
   "cell_type": "code",
   "execution_count": 7,
   "metadata": {},
   "outputs": [],
   "source": [
    "import numpy as np\n",
    "import time"
   ]
  },
  {
   "cell_type": "code",
   "execution_count": 8,
   "metadata": {},
   "outputs": [],
   "source": [
    "def riemann(fun, a, b, width = 0.1) -> float:\n",
    "    '''\n",
    "    Return integral from a to b using Riemann (rectangles) method.\n",
    "    \n",
    "    Arguments\n",
    "    ---------\n",
    "    fun : funtion\n",
    "        Function for which we calc the integral.\n",
    "    a : float\n",
    "        Start of interval.\n",
    "    b : float\n",
    "        End of interval.\n",
    "    width : float, 0.1 by default\n",
    "        Width of single rectangle.\n",
    "        \n",
    "    Returns\n",
    "    -------\n",
    "    float\n",
    "        Calculated integral.\n",
    "    '''\n",
    "    res = 0\n",
    "    points = np.linspace(a, b, round(((b - a) / width) + 0.5))\n",
    "\n",
    "    for i in points:\n",
    "        res += fun(i) * width\n",
    "    return res"
   ]
  },
  {
   "cell_type": "code",
   "execution_count": 9,
   "metadata": {},
   "outputs": [],
   "source": [
    "def trapezoid(fun, a, b, width = 0.1) -> float:\n",
    "    '''\n",
    "    Return integral from a to b using trapezoid method.\n",
    "    \n",
    "    Arguments\n",
    "    ---------\n",
    "    fun : funtion\n",
    "        Function for which we calc the integral.\n",
    "    a : float\n",
    "        Start of interval.\n",
    "    b : float\n",
    "        End of interval.\n",
    "    width : float, 0.1 by default\n",
    "        Width of single rectangle.\n",
    "        \n",
    "    Returns\n",
    "    -------\n",
    "    float\n",
    "        Calculated integral.\n",
    "    '''\n",
    "    res = 0\n",
    "    points = np.linspace(a, b, round(((b - a) / width) + 0.5))\n",
    "\n",
    "    for i in range(len(points) - 1):\n",
    "        res += ((fun(points[i]) + fun(points[i+1])) * width) / 2\n",
    "    return res"
   ]
  },
  {
   "cell_type": "code",
   "execution_count": 10,
   "metadata": {},
   "outputs": [],
   "source": [
    "def simpson(fun, a, b, width = 0.1) -> float:\n",
    "    '''\n",
    "    Return integral from a to b using Simpson (parabola) method.\n",
    "    \n",
    "    Arguments\n",
    "    ---------\n",
    "    fun : funtion\n",
    "        Function for which we calc the integral.\n",
    "    a : float\n",
    "        Start of interval.\n",
    "    b : float\n",
    "        End of interval.\n",
    "    width : float, 0.1 by default\n",
    "        Width of single rectangle.\n",
    "        \n",
    "    Returns\n",
    "    -------\n",
    "    float\n",
    "        Calculated integral.\n",
    "    '''\n",
    "    res = 0\n",
    "    points = np.linspace(a, b, round(((b - a) / width) + 0.5))\n",
    "    \n",
    "    res += fun(points[0])\n",
    "    \n",
    "    for i in range(1, len(points) - 1):\n",
    "        if i % 2 == 0:\n",
    "            res += 2 * fun(points[i])\n",
    "        else:\n",
    "            res += 4 * fun(points[i])\n",
    "    res += fun(points[-1])\n",
    "    \n",
    "    return res * width / 3"
   ]
  },
  {
   "cell_type": "code",
   "execution_count": 11,
   "metadata": {},
   "outputs": [
    {
     "name": "stdout",
     "output_type": "stream",
     "text": [
      "Riemann:  -1.6653345369377348e-16\n",
      "Trapezoid:  -1.6653345369377348e-16\n",
      "Simpson:  -0.02807989502842996\n"
     ]
    }
   ],
   "source": [
    "f1 = lambda x: (x - 2) ** 3\n",
    "\n",
    "a = 1\n",
    "b = 3\n",
    "n = 0.1\n",
    "#expected 0\n",
    "\n",
    "print('Riemann: ', riemann(f1, a, b, n))\n",
    "print('Trapezoid: ', trapezoid(f1, a, b, n))\n",
    "print('Simpson: ', simpson(f1, a, b, n))"
   ]
  },
  {
   "cell_type": "code",
   "execution_count": 12,
   "metadata": {},
   "outputs": [
    {
     "name": "stdout",
     "output_type": "stream",
     "text": [
      "Riemann:  9.321791299199226\n",
      "Trapezoid:  9.021791299199226\n",
      "Simpson:  8.889750479975765\n"
     ]
    }
   ],
   "source": [
    "f2 = lambda x: 2 * x ** (1/2)\n",
    "\n",
    "a = 1\n",
    "b = 4\n",
    "n = 0.1\n",
    "#expected 9,(3) (28/3)\n",
    "\n",
    "print('Riemann: ', riemann(f2, a, b, n))\n",
    "print('Trapezoid: ', trapezoid(f2, a, b, n))\n",
    "print('Simpson: ', simpson(f2, a, b, n))"
   ]
  },
  {
   "cell_type": "code",
   "execution_count": 13,
   "metadata": {},
   "outputs": [
    {
     "name": "stdout",
     "output_type": "stream",
     "text": [
      "Riemann:  -6.938893903907228e-17\n",
      "Trapezoid:  -6.938893903907228e-17\n",
      "Simpson:  -0.01427057667085875\n"
     ]
    }
   ],
   "source": [
    "f3 = lambda x: (x ** 2) * np.sin(x) * np.cos(x)\n",
    "\n",
    "a = -1\n",
    "b = 1\n",
    "n = 0.1\n",
    "#expected 0\n",
    "\n",
    "print('Riemann: ', riemann(f3, a, b, n))\n",
    "print('Trapezoid: ', trapezoid(f3, a, b, n))\n",
    "print('Simpson: ', simpson(f3, a, b, n))"
   ]
  },
  {
   "cell_type": "code",
   "execution_count": 14,
   "metadata": {},
   "outputs": [
    {
     "name": "stdout",
     "output_type": "stream",
     "text": [
      "Riemann:  61.641025641025635\n",
      "Trapezoid:  58.54102564102564\n",
      "Simpson:  56.54699955607253\n"
     ]
    }
   ],
   "source": [
    "f4 = lambda x: x ** 3 - x + 1\n",
    "\n",
    "a = 0\n",
    "b = 4\n",
    "n = 0.1\n",
    "#expected 60\n",
    "\n",
    "print('Riemann: ', riemann(f4, a, b, n))\n",
    "print('Trapezoid: ', trapezoid(f4, a, b, n))\n",
    "print('Simpson: ', simpson(f4, a, b, n))"
   ]
  },
  {
   "cell_type": "code",
   "execution_count": 15,
   "metadata": {},
   "outputs": [
    {
     "name": "stdout",
     "output_type": "stream",
     "text": [
      "Riemann:  18.381746610293042\n",
      "Trapezoid:  16.881746610293042\n",
      "Simpson:  16.083452398308793\n"
     ]
    }
   ],
   "source": [
    "f5 = lambda x: x ** 4 + x ** 3 - x ** 2 + 5\n",
    "\n",
    "a = 0\n",
    "b = 2\n",
    "n = 0.1\n",
    "#expected 17,7(3) (266/15)\n",
    "\n",
    "print('Riemann: ', riemann(f5, a, b, n))\n",
    "print('Trapezoid: ', trapezoid(f5, a, b, n))\n",
    "print('Simpson: ', simpson(f5, a, b, n))"
   ]
  },
  {
   "cell_type": "markdown",
   "metadata": {},
   "source": [
    "### Czas działania"
   ]
  },
  {
   "cell_type": "code",
   "execution_count": 16,
   "metadata": {},
   "outputs": [
    {
     "name": "stdout",
     "output_type": "stream",
     "text": [
      "6.6339335441589355\n"
     ]
    }
   ],
   "source": [
    "a = 0\n",
    "b = 1000\n",
    "n = 0.001\n",
    "\n",
    "start = time.time()\n",
    "\n",
    "riemann(f1, a, b, n)\n",
    "riemann(f2, a, b, n)\n",
    "riemann(f3, a, b, n)\n",
    "riemann(f4, a, b, n)\n",
    "riemann(f5, a, b, n)\n",
    "\n",
    "end = time.time()\n",
    "riemann_time = end - start\n",
    "print(riemann_time)"
   ]
  },
  {
   "cell_type": "code",
   "execution_count": 17,
   "metadata": {},
   "outputs": [
    {
     "name": "stdout",
     "output_type": "stream",
     "text": [
      "15.057838678359985\n"
     ]
    }
   ],
   "source": [
    "start = time.time()\n",
    "\n",
    "trapezoid(f1, a, b, n)\n",
    "trapezoid(f2, a, b, n)\n",
    "trapezoid(f3, a, b, n)\n",
    "trapezoid(f4, a, b, n)\n",
    "trapezoid(f5, a, b, n)\n",
    "\n",
    "end = time.time()\n",
    "trapezoid_time = end - start\n",
    "print(trapezoid_time)"
   ]
  },
  {
   "cell_type": "code",
   "execution_count": 18,
   "metadata": {},
   "outputs": [
    {
     "name": "stdout",
     "output_type": "stream",
     "text": [
      "8.571475505828857\n"
     ]
    }
   ],
   "source": [
    "start = time.time()\n",
    "\n",
    "simpson(f1, a, b, n)\n",
    "simpson(f2, a, b, n)\n",
    "simpson(f3, a, b, n)\n",
    "simpson(f4, a, b, n)\n",
    "simpson(f5, a, b, n)\n",
    "\n",
    "end = time.time()\n",
    "simpson_time = end - start\n",
    "print(simpson_time)"
   ]
  }
 ],
 "metadata": {
  "kernelspec": {
   "display_name": "Python 3",
   "language": "python",
   "name": "python3"
  },
  "language_info": {
   "codemirror_mode": {
    "name": "ipython",
    "version": 3
   },
   "file_extension": ".py",
   "mimetype": "text/x-python",
   "name": "python",
   "nbconvert_exporter": "python",
   "pygments_lexer": "ipython3",
   "version": "3.9.4"
  }
 },
 "nbformat": 4,
 "nbformat_minor": 2
}
