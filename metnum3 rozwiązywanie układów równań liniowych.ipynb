{
 "cells": [
  {
   "cell_type": "markdown",
   "metadata": {},
   "source": [
    "# Operacje na macierzach - rozwiązywanie układów równań liniowych"
   ]
  },
  {
   "cell_type": "markdown",
   "metadata": {},
   "source": [
    "## 1. Mnożenie macierzy Numpy"
   ]
  },
  {
   "cell_type": "markdown",
   "metadata": {},
   "source": [
    "### Tworzenie macierzy"
   ]
  },
  {
   "cell_type": "code",
   "execution_count": 1,
   "metadata": {},
   "outputs": [],
   "source": [
    "import numpy as np"
   ]
  },
  {
   "cell_type": "code",
   "execution_count": 2,
   "metadata": {},
   "outputs": [
    {
     "name": "stdout",
     "output_type": "stream",
     "text": [
      "[1. 2. 3. 4.]\n",
      "float64\n"
     ]
    }
   ],
   "source": [
    "a = np.array([1, 2, 3, 4], dtype=float)\n",
    "print(a)\n",
    "print(a.dtype)"
   ]
  },
  {
   "cell_type": "code",
   "execution_count": 3,
   "metadata": {},
   "outputs": [
    {
     "name": "stdout",
     "output_type": "stream",
     "text": [
      "[1. 2. 3. 4.]\n"
     ]
    }
   ],
   "source": [
    "a.reshape(2,2)\n",
    "print(a)"
   ]
  },
  {
   "cell_type": "code",
   "execution_count": 4,
   "metadata": {},
   "outputs": [
    {
     "name": "stdout",
     "output_type": "stream",
     "text": [
      "[[1. 2.]\n",
      " [3. 4.]]\n"
     ]
    }
   ],
   "source": [
    "a = a.reshape(2,2)\n",
    "print(a)"
   ]
  },
  {
   "cell_type": "code",
   "execution_count": 5,
   "metadata": {},
   "outputs": [
    {
     "name": "stdout",
     "output_type": "stream",
     "text": [
      "[[0. 3.]\n",
      " [5. 7.]]\n"
     ]
    }
   ],
   "source": [
    "b = np.array([0, 3, 5, 7], dtype=float)\n",
    "b = b.reshape(2,2)\n",
    "print(b)"
   ]
  },
  {
   "cell_type": "markdown",
   "metadata": {},
   "source": [
    "### Mnożenie \"pozycyjne\" (macierz której elementami są iloczyny odpowiadających im elementów obydwu mnożonych macierzy)"
   ]
  },
  {
   "cell_type": "code",
   "execution_count": 6,
   "metadata": {},
   "outputs": [
    {
     "name": "stdout",
     "output_type": "stream",
     "text": [
      "[[ 0.  6.]\n",
      " [15. 28.]]\n"
     ]
    }
   ],
   "source": [
    "x = a*b\n",
    "print(x)"
   ]
  },
  {
   "cell_type": "markdown",
   "metadata": {},
   "source": [
    "### Mnożenie macierzowe (wiersze przez kolumny)"
   ]
  },
  {
   "cell_type": "code",
   "execution_count": 7,
   "metadata": {},
   "outputs": [
    {
     "name": "stdout",
     "output_type": "stream",
     "text": [
      "[[10. 17.]\n",
      " [20. 37.]]\n"
     ]
    }
   ],
   "source": [
    "x2 = a.dot(b)\n",
    "print(x2)"
   ]
  },
  {
   "cell_type": "markdown",
   "metadata": {},
   "source": [
    "### Wyznacznik macierzy"
   ]
  },
  {
   "cell_type": "code",
   "execution_count": 8,
   "metadata": {},
   "outputs": [
    {
     "name": "stdout",
     "output_type": "stream",
     "text": [
      "29.99999999999999\n"
     ]
    }
   ],
   "source": [
    "d = np.linalg.det(x2)\n",
    "print(d)"
   ]
  },
  {
   "cell_type": "markdown",
   "metadata": {},
   "source": [
    "## 2. Wyznaczanie macierzy odwrotnej metodą Gaussa-Jordana i jej zastosowanie do rozwiązywania układów równań liniowych"
   ]
  },
  {
   "cell_type": "code",
   "execution_count": 1,
   "metadata": {},
   "outputs": [],
   "source": [
    "import numpy as np\n",
    "def inv_matrix_3x3(a):\n",
    "    '''\n",
    "    Return invertible matrix 3x3 using Gauss-Jordan method.\n",
    "    \n",
    "    Arguments\n",
    "    ---------\n",
    "    a : numpy array, 3x3 size, float type values\n",
    "        Start matrix.\n",
    "    \n",
    "    Returns\n",
    "    -------\n",
    "    numpy array, 3x3 size, float type values\n",
    "        Calculated invertible matrix (with some error).\n",
    "    \n",
    "    '''\n",
    "    \n",
    "    b = np.zeros([len(a), len(a)], dtype = float)\n",
    "    np.fill_diagonal(b, 1)\n",
    "    \n",
    "    #step 1\n",
    "    temp = a[0, 0]\n",
    "    a[0] = a[0] / temp\n",
    "    b[0] = b[0] / temp\n",
    "    \n",
    "    #step 2\n",
    "    temp = a[1, 0]\n",
    "    a[1] = a[1] - (temp * a[0])\n",
    "    b[1] = b[1] - (temp * b[0])\n",
    "    \n",
    "    temp = a[2, 0]\n",
    "    a[2] = a[2] - (temp * a[0])\n",
    "    b[2] = b[2] - (temp * b[0])\n",
    "    \n",
    "    #step 3\n",
    "    temp = a[1, 1]\n",
    "    a[1] = a[1] / temp\n",
    "    b[1] = b[1] / temp\n",
    "    \n",
    "    temp = a[0, 1]\n",
    "    a[0] = a[0] - a[1] * temp\n",
    "    b[0] = b[0] - b[1] * temp\n",
    "\n",
    "    temp = a[2, 1]\n",
    "    a[2] = a[2] - a[1] * temp\n",
    "    b[2] = b[2] - b[1] * temp\n",
    "    \n",
    "    #step 4\n",
    "    temp = a[2, 2]\n",
    "    a[2] = a[2] / temp\n",
    "    b[2] = b[2] / temp\n",
    "    \n",
    "    temp = a[0, 2]\n",
    "    a[0] = a[0] - a[2] * temp\n",
    "    b[0] = b[0] - b[2] * temp\n",
    "    \n",
    "    temp = a[1, 2]\n",
    "    a[1] = a[1] - a[2] * temp\n",
    "    b[1] = b[1] - b[2] * temp\n",
    "    \n",
    "    return b\n"
   ]
  },
  {
   "cell_type": "code",
   "execution_count": 2,
   "metadata": {},
   "outputs": [],
   "source": [
    "def inv_matrix(matrix):\n",
    "    '''\n",
    "    Return invertible matrix using Gauss-Jordan method.\n",
    "    \n",
    "    Arguments\n",
    "    ---------\n",
    "    matrix : numpy array, any size, float type values\n",
    "        Start matrix.\n",
    "    \n",
    "    Returns\n",
    "    -------\n",
    "    numpy array, dimensions as start matrix, float type values\n",
    "        Calculated invertible matrix (with some error).\n",
    "    \n",
    "    '''\n",
    "    n = len(matrix[0])\n",
    "    \n",
    "    #matrix n x 2n. \n",
    "    #left part filled with argument's values\n",
    "    #right part is a diagonal matrix\n",
    "    b = np.zeros([n, n], dtype = float)\n",
    "    np.fill_diagonal(b, 1)\n",
    "    a = np.concatenate([matrix, b], axis = 1)\n",
    "\n",
    "    #step 1: Gauss-Jordan elimination\n",
    "    for i in range(n):\n",
    "        for j in range(n):\n",
    "            if i != j:\n",
    "                ratio = a[j, i] / a[i, i]\n",
    "\n",
    "                for k in range(2 * n):\n",
    "                    a[j, k] = a[j, k] - ratio * a[i, k]\n",
    "                    \n",
    "    #step 2: repair main diagonal\n",
    "    for i in range(n):\n",
    "        divisor = a[i, i]\n",
    "        for j in range(2 * n):\n",
    "            a[i, j] = a[i, j] / divisor\n",
    "    return a[:, n:]"
   ]
  },
  {
   "cell_type": "code",
   "execution_count": 3,
   "metadata": {},
   "outputs": [
    {
     "name": "stdout",
     "output_type": "stream",
     "text": [
      "[[ 0.75 -0.25 -0.25]\n",
      " [-0.25  0.75 -0.25]\n",
      " [-0.25 -0.25  0.75]]\n",
      "[[ 0.75 -0.25 -0.25]\n",
      " [-0.25  0.75 -0.25]\n",
      " [-0.25 -0.25  0.75]]\n"
     ]
    }
   ],
   "source": [
    "matrix1 = np.array([2, 1, 1, 1, 2, 1, 1, 1, 2], dtype=float).reshape(3,3)\n",
    "print(inv_matrix_3x3(matrix1))\n",
    "\n",
    "matrix1 = np.array([2, 1, 1, 1, 2, 1, 1, 1, 2], dtype=float).reshape(3,3)\n",
    "print(inv_matrix(matrix1))"
   ]
  },
  {
   "cell_type": "code",
   "execution_count": 4,
   "metadata": {},
   "outputs": [
    {
     "name": "stdout",
     "output_type": "stream",
     "text": [
      "[[ 3.    1.    1.5 ]\n",
      " [-1.25 -0.25 -0.75]\n",
      " [-0.25 -0.25 -0.25]]\n",
      "[[ 3.    1.    1.5 ]\n",
      " [-1.25 -0.25 -0.75]\n",
      " [-0.25 -0.25 -0.25]]\n"
     ]
    }
   ],
   "source": [
    "matrix2 = np.array([1, 1, 3, 1, 3, -3, -2, -4, -4], dtype=float).reshape(3,3)\n",
    "print(inv_matrix_3x3(matrix2))\n",
    "\n",
    "matrix2 = np.array([1, 1, 3, 1, 3, -3, -2, -4, -4], dtype=float).reshape(3,3)\n",
    "print(inv_matrix(matrix2))"
   ]
  },
  {
   "cell_type": "code",
   "execution_count": 5,
   "metadata": {},
   "outputs": [],
   "source": [
    "def linear_equations_Gauss(a, b):\n",
    "    '''\n",
    "    Return system of linear equations's solutions.\n",
    "    \n",
    "    Arguments\n",
    "    ---------\n",
    "    a : numpy array, float type values\n",
    "        Main matrix with coefficients.\n",
    "    b : numpy array, float type values\n",
    "        Vector with constant terms.\n",
    "     \n",
    "    Returns\n",
    "    -------\n",
    "    numpy array, dimensions as matrix b, float type values\n",
    "        Solution with X values.\n",
    "    \n",
    "    '''\n",
    "    invertible_matrix = inv_matrix(a)\n",
    "    return invertible_matrix.dot(b)"
   ]
  },
  {
   "cell_type": "code",
   "execution_count": 6,
   "metadata": {},
   "outputs": [
    {
     "data": {
      "text/plain": [
       "array([[-1.4],\n",
       "       [-2. ],\n",
       "       [-4.2]])"
      ]
     },
     "execution_count": 6,
     "metadata": {},
     "output_type": "execute_result"
    }
   ],
   "source": [
    "'''\n",
    "2x - 2y + 1z = -3\n",
    "1x + 3y - 2z = 1\n",
    "3x - 1y - 1z = 2\n",
    "'''\n",
    "a = np.array([2, -2, 1, 1, 3, -2, 3, -1, -1], dtype=float)\n",
    "a = a.reshape(3, 3)\n",
    "\n",
    "b = np.array([-3, 1, 2], dtype=float)\n",
    "b = b.reshape(3, 1)\n",
    "\n",
    "linear_equations_Gauss(a, b)"
   ]
  },
  {
   "cell_type": "code",
   "execution_count": 7,
   "metadata": {},
   "outputs": [
    {
     "data": {
      "text/plain": [
       "array([[ 0.8125],\n",
       "       [-0.0625],\n",
       "       [ 0.375 ]])"
      ]
     },
     "execution_count": 7,
     "metadata": {},
     "output_type": "execute_result"
    }
   ],
   "source": [
    "'''\n",
    "2x + 0y + 1z = 2\n",
    "1x - 3y + 0z = 1\n",
    "1x + 1y - 2z = 0\n",
    "'''\n",
    "a = np.array([2, 0, 1, 1, -3, 0, 1, 1, -2], dtype=float)\n",
    "a = a.reshape(3, 3)\n",
    "\n",
    "b = np.array([2, 1, 0], dtype=float)\n",
    "b = b.reshape(3, 1)\n",
    "linear_equations_Gauss(a, b)"
   ]
  },
  {
   "cell_type": "code",
   "execution_count": 8,
   "metadata": {},
   "outputs": [
    {
     "data": {
      "text/plain": [
       "array([[ 2.],\n",
       "       [ 4.],\n",
       "       [-1.]])"
      ]
     },
     "execution_count": 8,
     "metadata": {},
     "output_type": "execute_result"
    }
   ],
   "source": [
    "'''\n",
    "3x-3y-3z=-3\n",
    "2x+y+2z=6\n",
    "-x+2y+2z=4\n",
    "'''\n",
    "a = np.array(\n",
    "[\n",
    "    [3,-3,-3],\n",
    "    [2,1,2],\n",
    "    [-1,2,2]\n",
    "])\n",
    "b = np.array(\n",
    "[\n",
    "    [-3],\n",
    "    [6],\n",
    "    [4]\n",
    "])\n",
    "linear_equations_Gauss(a, b)"
   ]
  },
  {
   "cell_type": "code",
   "execution_count": 9,
   "metadata": {},
   "outputs": [
    {
     "data": {
      "text/plain": [
       "array([[ -8.66666667],\n",
       "       [-21.66666667],\n",
       "       [ 20.        ]])"
      ]
     },
     "execution_count": 9,
     "metadata": {},
     "output_type": "execute_result"
    }
   ],
   "source": [
    "'''\n",
    "3x-3y-2z=-1\n",
    "4x-y+z=7\n",
    "-1x+4y+4z=2\n",
    "'''\n",
    "a = np.array(\n",
    "[\n",
    "    [3,-3,-2],\n",
    "    [4,-1,1],\n",
    "    [-1,4,4]\n",
    "])\n",
    "b = np.array(\n",
    "[\n",
    "    [-1],\n",
    "    [7],\n",
    "    [2]\n",
    "])\n",
    "linear_equations_Gauss(a, b)"
   ]
  },
  {
   "cell_type": "code",
   "execution_count": 18,
   "metadata": {},
   "outputs": [
    {
     "data": {
      "text/plain": [
       "array([[-2.],\n",
       "       [ 2.],\n",
       "       [-2.],\n",
       "       [ 2.]])"
      ]
     },
     "execution_count": 18,
     "metadata": {},
     "output_type": "execute_result"
    }
   ],
   "source": [
    "'''\n",
    "x+7y+3v+5u=16\n",
    "8x+4y+6v+2u=-16\n",
    "2x+6y+4v+8u=16\n",
    "5x+3y+7v+1u=-16\n",
    "'''\n",
    "a = np.array(\n",
    "[\n",
    "    [1,7,3,5],\n",
    "    [8,4,6,2],\n",
    "    [2,6,4,8],\n",
    "    [5,3,7,1]\n",
    "])\n",
    "b = np.array(\n",
    "[\n",
    "    [16],\n",
    "    [-16],\n",
    "    [16],\n",
    "    [-16]\n",
    "])\n",
    "linear_equations_Gauss(a, b)"
   ]
  }
 ],
 "metadata": {
  "kernelspec": {
   "display_name": "Python 3",
   "language": "python",
   "name": "python3"
  },
  "language_info": {
   "codemirror_mode": {
    "name": "ipython",
    "version": 3
   },
   "file_extension": ".py",
   "mimetype": "text/x-python",
   "name": "python",
   "nbconvert_exporter": "python",
   "pygments_lexer": "ipython3",
   "version": "3.9.4"
  }
 },
 "nbformat": 4,
 "nbformat_minor": 2
}
