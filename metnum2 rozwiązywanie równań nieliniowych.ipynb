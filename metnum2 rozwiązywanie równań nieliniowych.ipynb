{
 "cells": [
  {
   "cell_type": "markdown",
   "metadata": {},
   "source": [
    "# Rozwiązywanie równań nieliniowych"
   ]
  },
  {
   "cell_type": "code",
   "execution_count": 2,
   "metadata": {},
   "outputs": [],
   "source": [
    "from typing import Callable, Tuple, Optional"
   ]
  },
  {
   "cell_type": "code",
   "execution_count": 3,
   "metadata": {},
   "outputs": [],
   "source": [
    "def sign(number: float) -> int:\n",
    "    '''Return -1 for negative number, 1 for positive and 0 if number is 0'''\n",
    "    if number < 0:\n",
    "        return -1\n",
    "    elif number > 0:\n",
    "        return 1\n",
    "    else:\n",
    "        return 0\n",
    "\n",
    "def bisection(func: Callable[[float], float], start: float, end: float,\n",
    "              tolerance: float = 1e-4, min_step: float = 1e-4) -> Tuple[float, float, int]:\n",
    "    '''Return tuple (answer, determination_error) for function using bisection method.\n",
    "    \n",
    "    For the purposes of method analysis this function also returns number of steps.\n",
    "    '''\n",
    "    mid = (start + end) / 2\n",
    "    start_value, end_value, mid_value = func(start), func(end), func(mid)\n",
    "    start_sign, end_sign = sign(start_value), sign(end_value)\n",
    "    step = 0\n",
    "    \n",
    "    while abs(mid_value) > tolerance and abs(start - end) >= min_step:\n",
    "        mid_sign = sign(mid_value)\n",
    "        if mid_sign == start_sign:\n",
    "            start = mid\n",
    "        else:\n",
    "            end = mid\n",
    "        mid = (start + end) / 2\n",
    "        start_value, end_value, mid_value = func(start), func(end), func(mid)\n",
    "        step += 1\n",
    "    return (mid, abs(start - end) / 2, step)\n"
   ]
  },
  {
   "cell_type": "code",
   "execution_count": 4,
   "metadata": {},
   "outputs": [],
   "source": [
    "def newton(f: Callable[[float], float], f_p: Callable[[float], float], start: float,\n",
    "           tolerance: float = 1e-3, max_steps: float = 7) -> Tuple[Optional[float], int]:\n",
    "    '''Return equation root using Newton–Raphson method.\n",
    "    \n",
    "    For the purposes of method analysis this function also returns number of steps.\n",
    "    \n",
    "    Arguments\n",
    "    ---------\n",
    "    f : Callable[[float], float]\n",
    "        Function which root must be found.\n",
    "    f_p : Callable[[float], float]\n",
    "        Function derivative used for root calculation.\n",
    "    start : float\n",
    "        Start point.\n",
    "    tolerance : float, default = 1e-3\n",
    "        Tolerance. If value for calculated root will be less than tolerance value,\n",
    "        such point will be considered as equation root and will be returned.\n",
    "    max_steps : float, default = 7\n",
    "        Maximum number of steps to determine root. If number of steps exceeds\n",
    "        maximum - None will be returned.\n",
    "    \n",
    "    Returns\n",
    "    -------\n",
    "    Tuple[Optional[float], int]\n",
    "        Calculated equation root (with some error) and number of steps\n",
    "    '''\n",
    "    \n",
    "    x = start\n",
    "    value = f(start)\n",
    "    step = 0\n",
    "    while abs(value) > tolerance and step < max_steps:\n",
    "        step += 1\n",
    "        x = x - value/f_p(x)\n",
    "        value = f(x)\n",
    "    if step == max_steps:\n",
    "        return (None, step)\n",
    "    else:\n",
    "        return (x, step)\n"
   ]
  },
  {
   "cell_type": "markdown",
   "metadata": {},
   "source": [
    "## Przykłady działania"
   ]
  },
  {
   "cell_type": "code",
   "execution_count": 5,
   "metadata": {},
   "outputs": [],
   "source": [
    "from math import cos, e, pow, sin\n",
    "\n",
    "def func1(x: float) -> float:\n",
    "    return x**3 - x - 1\n",
    "\n",
    "def func1_p(x: float) -> float:\n",
    "    return 3 * x**2 - 1\n",
    "\n",
    "def func2(x: float) -> float:\n",
    "    return x**2 - 3\n",
    "\n",
    "def func2_p(x: float) -> float:\n",
    "    return 2 * x\n",
    "\n",
    "def func3(x: float) -> float:\n",
    "    return pow(e, -x) * (3.2 * sin(x) - 0.5 * cos(x))"
   ]
  },
  {
   "cell_type": "code",
   "execution_count": 6,
   "metadata": {},
   "outputs": [
    {
     "name": "stdout",
     "output_type": "stream",
     "text": [
      "\tBISECTION METHOD\n",
      "For function \"x**3 - x - 1\" on [1, 2]: (1.32470703125, 0.00048828125)\n",
      "For function \"x*2 - 3\" on [1, 3]: (1.732025146484375, 0.000031)\n",
      "For function \"pow(e, -x)*(3.2*sin(x) - 0.5*cos(x))\" on [3, 4]: (3.296875, 0.0156)\n",
      "\n",
      "\tNEWTON-RHAPSON METHOD\n",
      "For function \"x**3 - x - 1\" with starting point x=1: (1.3247181739990537, 4)\n",
      "For function \"x*2 - 3\" with starting point x=2]: (1.7321428571428572, 2)\n"
     ]
    }
   ],
   "source": [
    "print('\\tBISECTION METHOD')\n",
    "\n",
    "print(f'For function \"x**3 - x - 1\" on [1, 2]: {bisection(func1, 1, 2)[:2]}')\n",
    "\n",
    "func2_x, func2_determination_error, func2_steps = bisection(func2, 1, 3, tolerance=1e-6)\n",
    "print(f'For function \"x*2 - 3\" on [1, 3]: ({func2_x}, {func2_determination_error:.6f})')\n",
    "\n",
    "func3_x, func3_determination_error, func3_steps = bisection(func3, 3, 4, tolerance=1e-3)\n",
    "print(f'For function \"pow(e, -x)*(3.2*sin(x) - 0.5*cos(x))\" on [3, 4]: ({func3_x}, {func3_determination_error:.4f})')\n",
    "\n",
    "print ('\\n\\tNEWTON-RHAPSON METHOD')\n",
    "print(f'For function \"x**3 - x - 1\" with starting point x=1: {newton(func1, func1_p, 1)}')\n",
    "\n",
    "print(f'For function \"x*2 - 3\" with starting point x=2]: {newton(func2, func2_p, 2)}')"
   ]
  },
  {
   "cell_type": "markdown",
   "metadata": {},
   "source": [
    "### Czas działania"
   ]
  },
  {
   "cell_type": "code",
   "execution_count": 7,
   "metadata": {},
   "outputs": [
    {
     "name": "stdout",
     "output_type": "stream",
     "text": [
      "Bisection method time = 0.21770s\n",
      "Newton method time = 0.08239s\n"
     ]
    }
   ],
   "source": [
    "from functools import partial\n",
    "from timeit import timeit\n",
    "\n",
    "bisection_time = timeit(partial(bisection, func1, 1, 2), number=10000)\n",
    "print(f'Bisection method time = {bisection_time:.5f}s')\n",
    "newton_time = timeit(partial(newton, func1, func1_p, 1), number=10000)\n",
    "print(f'Newton method time = {newton_time:.5f}s')"
   ]
  },
  {
   "cell_type": "markdown",
   "metadata": {},
   "source": [
    "### Ilość kroków dla różnych wartości tolerancji"
   ]
  },
  {
   "cell_type": "code",
   "execution_count": 8,
   "metadata": {},
   "outputs": [
    {
     "data": {
      "image/png": "[encoded data removed]",
      "text/plain": [
       "<Figure size 720x432 with 1 Axes>"
      ]
     },
     "metadata": {
      "needs_background": "light"
     },
     "output_type": "display_data"
    }
   ],
   "source": [
    "from matplotlib import pyplot as plt\n",
    "import numpy as np\n",
    "\n",
    "tolerances = [10**(-i) for i in range(3, 9)]\n",
    "bisection_all_steps = []\n",
    "newton_all_steps = []\n",
    "for tolerance in tolerances:\n",
    "    _, _, bisection_steps = bisection(func1, 1, 2, tolerance=tolerance)\n",
    "    bisection_all_steps.append(bisection_steps)\n",
    "    _, newton_steps = newton(func1, func1_p, 1, tolerance=tolerance, max_steps=100)\n",
    "    newton_all_steps.append(newton_steps)\n",
    "    \n",
    "width = 0.35  # the width of the bars\n",
    "x = np.arange(len(tolerances))\n",
    "fig, ax = plt.subplots()\n",
    "fig.set_size_inches(10, 6)\n",
    "\n",
    "rects1 = ax.bar(x - width/2, bisection_all_steps, width, label='Bisection')\n",
    "rects2 = ax.bar(x + width/2, newton_all_steps, width, label='Newton')\n",
    "\n",
    "ax.set_ylabel('Number of steps')\n",
    "ax.set_xlabel('Tolerance')\n",
    "ax.set_title('Steps by tolerances')\n",
    "ax.set_xticks(x)\n",
    "ax.set_xticklabels([str(i) for i in tolerances])\n",
    "ax.legend()\n",
    "\n",
    "fig.tight_layout()\n",
    "\n",
    "plt.show()"
   ]
  },
  {
   "cell_type": "markdown",
   "metadata": {},
   "source": [
    "### Bisekcja - różne wartości przedziału"
   ]
  },
  {
   "cell_type": "code",
   "execution_count": 9,
   "metadata": {},
   "outputs": [
    {
     "name": "stdout",
     "output_type": "stream",
     "text": [
      "\tDIFFERENT LENGTH OF INTERVAL\n",
      "For function \"x**3 - x - 1\" on [1, 2]: (1.32470703125, 0.00048828125, 10)\n",
      "For function \"x**3 - x - 1\" on [0, 4]: (1.32470703125, 0.00048828125, 12)\n",
      "For function \"x**3 - x - 1\" on [-10, 10]: (1.3247299194335938, 3.814697265625e-05, 18)\n",
      "For function \"x**3 - x - 1\" on [0, 200]: (1.3247013092041016, 4.76837158203125e-05, 21)\n",
      "\tSAME LENGTH, DIFFERENT POINTS\n",
      "For function \"x**3 - x - 1\" on [0, 5.2988]: (1.3247, 1.3247, 1)\n",
      "For function \"x**3 - x - 1\" on [1, 6.2988]: (1.3247067382812499, 0.001293652343750007, 11)\n",
      "For function \"x**3 - x - 1\" on [-100, 100]: (1.3247013092041016, 4.76837158203125e-05, 21)\n",
      "For function \"x**3 - x - 1\" on [0, 200]: (1.3247013092041016, 4.76837158203125e-05, 21)\n"
     ]
    }
   ],
   "source": [
    "print('\\tDIFFERENT LENGTH OF INTERVAL')\n",
    "print(f'For function \"x**3 - x - 1\" on [1, 2]: {bisection(func1, 1, 2)}')\n",
    "print(f'For function \"x**3 - x - 1\" on [0, 4]: {bisection(func1, 0, 4)}')\n",
    "print(f'For function \"x**3 - x - 1\" on [-10, 10]: {bisection(func1, -10, 10)}')\n",
    "print(f'For function \"x**3 - x - 1\" on [0, 200]: {bisection(func1, 0, 200)}')\n",
    "print('\\tSAME LENGTH, DIFFERENT POINTS')\n",
    "print(f'For function \"x**3 - x - 1\" on [0, 5.2988]: {bisection(func1, 0, 5.2988)}')\n",
    "print(f'For function \"x**3 - x - 1\" on [1, 6.2988]: {bisection(func1, 1, 6.2988)}')\n",
    "print(f'For function \"x**3 - x - 1\" on [-100, 100]: {bisection(func1, -100, 100)}')\n",
    "print(f'For function \"x**3 - x - 1\" on [0, 200]: {bisection(func1, 0, 200)}')"
   ]
  },
  {
   "cell_type": "markdown",
   "metadata": {},
   "source": [
    "### Bisekcja - różne wartości tolerancji"
   ]
  },
  {
   "cell_type": "code",
   "execution_count": 86,
   "metadata": {},
   "outputs": [
    {
     "name": "stdout",
     "output_type": "stream",
     "text": [
      "For function \"x**3 - x - 1\" on [1, 2], tolerance=1: (1.5, 0.5, 0)\n",
      "For function \"x**3 - x - 1\" on [1, 2], tolerance=1e-1: (1.3125, 0.0625, 3)\n",
      "For function \"x**3 - x - 1\" on [1, 2], tolerance=1e-2: (1.32421875, 0.00390625, 7)\n",
      "For function \"x**3 - x - 1\" on [1, 2], tolerance=1e-4: (1.32470703125, 0.00048828125, 10)\n",
      "For function \"x**3 - x - 1\" on [1, 2], tolerance=1e-8: (1.324737548828125, 3.0517578125e-05, 14)\n"
     ]
    }
   ],
   "source": [
    "print(f'For function \"x**3 - x - 1\" on [1, 2], tolerance=1: {bisection(func1, 1, 2, 1)}')\n",
    "print(f'For function \"x**3 - x - 1\" on [1, 2], tolerance=1e-1: {bisection(func1, 1, 2, 1e-1)}')\n",
    "print(f'For function \"x**3 - x - 1\" on [1, 2], tolerance=1e-2: {bisection(func1, 1, 2, 1e-2)}')\n",
    "print(f'For function \"x**3 - x - 1\" on [1, 2], tolerance=1e-4: {bisection(func1, 1, 2, 1e-4)}')\n",
    "print(f'For function \"x**3 - x - 1\" on [1, 2], tolerance=1e-8: {bisection(func1, 1, 2, 1e-8)}')"
   ]
  },
  {
   "cell_type": "markdown",
   "metadata": {},
   "source": [
    "### Metoda Newtona-Raphsona - różne wartości tolerancji"
   ]
  },
  {
   "cell_type": "code",
   "execution_count": 88,
   "metadata": {},
   "outputs": [
    {
     "name": "stdout",
     "output_type": "stream",
     "text": [
      "For function \"x**3 - x - 1\" with starting point x=1, tolerance=1: (1, 0)\n",
      "For function \"x**3 - x - 1\" with starting point x=1, tolerance=1e-2: (1.325200398950907, 3)\n",
      "For function \"x**3 - x - 1\" with starting point x=1, tolerance=1e-4: (1.3247181739990537, 4)\n",
      "For function \"x**3 - x - 1\" with starting point x=1, tolerance=1e-8: (1.3247179572447898, 5)\n",
      "For function \"x**3 - x - 1\" with starting point x=1, tolerance=1e-16: (None, 7)\n"
     ]
    }
   ],
   "source": [
    "print(f'For function \"x**3 - x - 1\" with starting point x=1, tolerance=1: {newton(func1, func1_p, 1, 1)}')\n",
    "print(f'For function \"x**3 - x - 1\" with starting point x=1, tolerance=1e-2: {newton(func1, func1_p, 1, 1e-2)}')\n",
    "print(f'For function \"x**3 - x - 1\" with starting point x=1, tolerance=1e-4: {newton(func1, func1_p, 1, 1e-4)}')\n",
    "print(f'For function \"x**3 - x - 1\" with starting point x=1, tolerance=1e-8: {newton(func1, func1_p, 1, 1e-8)}')\n",
    "print(f'For function \"x**3 - x - 1\" with starting point x=1, tolerance=1e-16: {newton(func1, func1_p, 1, 1e-16)}')"
   ]
  },
  {
   "cell_type": "markdown",
   "metadata": {},
   "source": [
    "### Metoda Newtona-Raphsona - różne punkty początkowe"
   ]
  },
  {
   "cell_type": "code",
   "execution_count": 96,
   "metadata": {},
   "outputs": [
    {
     "name": "stdout",
     "output_type": "stream",
     "text": [
      "For function \"x**3 - x - 1\" with starting point x=1: (1.3247181739990537, 4)\n",
      "For function \"x**3 - x - 1\" with starting point x=3: (1.3247233751392644, 5)\n",
      "For function \"x**3 - x - 1\" with starting point x=5: (1.3247824004934001, 6)\n",
      "For function \"x**3 - x - 1\" with starting point x=10: (None, 7)\n"
     ]
    }
   ],
   "source": [
    "print(f'For function \"x**3 - x - 1\" with starting point x=1: {newton(func1, func1_p, 1)}')\n",
    "print(f'For function \"x**3 - x - 1\" with starting point x=3: {newton(func1, func1_p, 3)}')\n",
    "print(f'For function \"x**3 - x - 1\" with starting point x=5: {newton(func1, func1_p, 5)}')\n",
    "print(f'For function \"x**3 - x - 1\" with starting point x=10: {newton(func1, func1_p, 10)}')"
   ]
  }
 ],
 "metadata": {
  "kernelspec": {
   "display_name": "Python 3",
   "language": "python",
   "name": "python3"
  },
  "language_info": {
   "codemirror_mode": {
    "name": "ipython",
    "version": 3
   },
   "file_extension": ".py",
   "mimetype": "text/x-python",
   "name": "python",
   "nbconvert_exporter": "python",
   "pygments_lexer": "ipython3",
   "version": "3.9.4"
  }
 },
 "nbformat": 4,
 "nbformat_minor": 2
}
